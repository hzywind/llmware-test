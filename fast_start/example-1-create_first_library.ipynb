{
 "cells": [
  {
   "cell_type": "code",
   "execution_count": 2,
   "metadata": {},
   "outputs": [
    {
     "data": {
      "text/plain": [
       "'Agreements'"
      ]
     },
     "execution_count": 2,
     "metadata": {},
     "output_type": "execute_result"
    }
   ],
   "source": [
    "from llmware.configs import LLMWareConfig\n",
    "\n",
    "LLMWareConfig().set_active_db(\"sqlite\")\n",
    "\n",
    "LLMWareConfig().set_config(\"debug_mode\", 2)\n",
    "\n",
    "sample_folders = [\"Agreements\", \"Invoices\", \"UN-Resolutions-500\", \"SmallLibrary\", \"FinDocs\", \"AgreementsLarge\"]\n",
    "\n",
    "library_name = \"example1_library\"\n",
    "\n",
    "selected_folder = sample_folders[0]\n",
    "\n",
    "selected_folder\n"
   ]
  },
  {
   "cell_type": "code",
   "execution_count": 3,
   "metadata": {},
   "outputs": [
    {
     "name": "stderr",
     "output_type": "stream",
     "text": [
      "c:\\playground\\workspace\\llmware-test\\venv\\Lib\\site-packages\\tqdm\\auto.py:21: TqdmWarning: IProgress not found. Please update jupyter and ipywidgets. See https://ipywidgets.readthedocs.io/en/stable/user_install.html\n",
      "  from .autonotebook import tqdm as notebook_tqdm\n"
     ]
    },
    {
     "name": "stdout",
     "output_type": "stream",
     "text": [
      "\n",
      "Step 1 - creating library example1_library\n"
     ]
    }
   ],
   "source": [
    "from llmware.library import Library\n",
    "\n",
    "print (f\"\\nStep 1 - creating library {library_name}\")\n",
    "\n",
    "library = Library().create_new_library(library_name)"
   ]
  },
  {
   "cell_type": "code",
   "execution_count": 5,
   "metadata": {},
   "outputs": [
    {
     "name": "stdout",
     "output_type": "stream",
     "text": [
      "Step 2 - loading the llmware sample files and saving at: C:\\Users\\hzywi\\llmware_data\\sample_files\n"
     ]
    }
   ],
   "source": [
    "import os\n",
    "from llmware.setup import Setup\n",
    "\n",
    "sample_files_path = Setup().load_sample_files(over_write=False)\n",
    "\n",
    "print (f\"Step 2 - loading the llmware sample files and saving at: {sample_files_path}\")\n",
    "\n",
    "ingestion_folder_path = os.path.join(sample_files_path, selected_folder)"
   ]
  },
  {
   "cell_type": "code",
   "execution_count": 6,
   "metadata": {},
   "outputs": [
    {
     "name": "stdout",
     "output_type": "stream",
     "text": [
      "Step 3 - parsing and indexing files from C:\\Users\\hzywi\\llmware_data\\sample_files\\Agreements\n"
     ]
    }
   ],
   "source": [
    "print (f\"Step 3 - parsing and indexing files from {ingestion_folder_path}\")\n",
    "\n",
    "parsing_output = library.add_files(ingestion_folder_path)"
   ]
  },
  {
   "cell_type": "code",
   "execution_count": 7,
   "metadata": {},
   "outputs": [
    {
     "name": "stdout",
     "output_type": "stream",
     "text": [
      "Step 4 - completed parsing - {'docs_added': 15, 'blocks_added': 1653, 'images_added': 0, 'pages_added': 204, 'tables_added': 0, 'rejected_files': []}\n",
      "Step 5 - updated library card - documents - 15 - blocks - 1653 - {'_id': 1, 'library_name': 'example1_library', 'embedding': [{'embedding_status': 'no', 'embedding_model': 'none', 'embedding_db': 'none', 'embedded_blocks': 0, 'embedding_dims': 0, 'time_stamp': 'NA'}], 'knowledge_graph': 'no', 'unique_doc_id': 15, 'documents': 15, 'blocks': 1653, 'images': 0, 'pages': 204, 'tables': 0, 'account_name': 'llmware'}\n"
     ]
    }
   ],
   "source": [
    "print (f\"Step 4 - completed parsing - {parsing_output}\")\n",
    "\n",
    "updated_library_card = library.get_library_card()\n",
    "doc_count = updated_library_card[\"documents\"]\n",
    "block_count = updated_library_card[\"blocks\"]\n",
    "\n",
    "print(f\"Step 5 - updated library card - documents - {doc_count} - blocks - {block_count} - {updated_library_card}\")"
   ]
  },
  {
   "cell_type": "code",
   "execution_count": 8,
   "metadata": {},
   "outputs": [
    {
     "name": "stdout",
     "output_type": "stream",
     "text": [
      "Step 6 - library artifacts - including extracted images - saved at folder path - C:\\Users\\hzywi\\llmware_data\\accounts\\llmware\\example1_library\n"
     ]
    }
   ],
   "source": [
    "library_path = library.library_main_path\n",
    "print(f\"Step 6 - library artifacts - including extracted images - saved at folder path - {library_path}\")"
   ]
  },
  {
   "cell_type": "code",
   "execution_count": 9,
   "metadata": {},
   "outputs": [
    {
     "name": "stdout",
     "output_type": "stream",
     "text": [
      "\n",
      "Step 7 - running a test query - base salary\n",
      "\n",
      "query results:  0 {'query': 'base salary', '_id': '27', 'text': \" Executive's base salary shall be reviewed annually   by the Board (or the compensation committee of the Board), pursuant to Employer's normal   compensation and performance review policies for senior level executives, and may be increased but not   decreased. The amount of any increase for each year shall be determined accordingly. For purposes of this   Agreement, the term “Base Salary” shall mean the amount of Executive's base salary established from   time to time pursuant to this Section 2.2.\", 'doc_ID': 1, 'block_ID': 26, 'page_num': 3, 'content_type': 'text', 'author_or_speaker': '', 'special_field1': '', 'file_source': 'C:\\\\\\\\Users\\\\\\\\hzywi\\\\\\\\llmware_data\\\\\\\\tmp\\\\\\\\parser_tmp\\\\\\\\process_pdf_files\\\\\\\\Amphitrite EXECUTIVE EMPLOYMENT AGREEMENT.pdf', 'added_to_collection': '05/05/24 21:36:48', 'table': '', 'coords_x': 1093, 'coords_y': -1969, 'coords_cx': 2, 'coords_cy': 136, 'external_files': '', 'score': -8.026802723270979, 'similarity': 0.0, 'distance': 0.0, 'matches': [[13, 'base'], [18, 'salary'], [379, 'base'], [384, 'salary'], [429, 'base'], [434, 'salary']], 'account_name': 'llmware', 'library_name': 'example1_library'}\n",
      "query results:  1 {'query': 'base salary', '_id': '141', 'text': \" Executive's base salary shall be reviewed annually   by the Board (or the compensation committee of the Board), pursuant to Employer's normal   compensation and performance review policies for senior level executives, and may be increased but not   decreased. The amount of any increase for each year shall be determined accordingly. For purposes of this   Agreement, the term “Base Salary” shall mean the amount of Executive's base salary established from   time to time pursuant to this Section 2.2.\", 'doc_ID': 2, 'block_ID': 26, 'page_num': 3, 'content_type': 'text', 'author_or_speaker': '', 'special_field1': '', 'file_source': 'C:\\\\\\\\Users\\\\\\\\hzywi\\\\\\\\llmware_data\\\\\\\\tmp\\\\\\\\parser_tmp\\\\\\\\process_pdf_files\\\\\\\\Aphrodite EXECUTIVE EMPLOYMENT AGREEMENT.pdf', 'added_to_collection': '05/05/24 21:36:48', 'table': '', 'coords_x': 1093, 'coords_y': -1969, 'coords_cx': 2, 'coords_cy': 133, 'external_files': '', 'score': -8.026802723270979, 'similarity': 0.0, 'distance': 0.0, 'matches': [[13, 'base'], [18, 'salary'], [379, 'base'], [384, 'salary'], [429, 'base'], [434, 'salary']], 'account_name': 'llmware', 'library_name': 'example1_library'}\n",
      "query results:  2 {'query': 'base salary', '_id': '255', 'text': \" Executive's base salary shall be reviewed annually   by the Board (or the compensation committee of the Board), pursuant to Employer's normal   compensation and performance review policies for senior level executives, and may be increased but not   decreased. The amount of any increase for each year shall be determined accordingly. For purposes of this   Agreement, the term “Base Salary” shall mean the amount of Executive's base salary established from   time to time pursuant to this Section 2.2.\", 'doc_ID': 3, 'block_ID': 26, 'page_num': 3, 'content_type': 'text', 'author_or_speaker': '', 'special_field1': '', 'file_source': 'C:\\\\\\\\Users\\\\\\\\hzywi\\\\\\\\llmware_data\\\\\\\\tmp\\\\\\\\parser_tmp\\\\\\\\process_pdf_files\\\\\\\\Apollo EXECUTIVE EMPLOYMENT AGREEMENT.pdf', 'added_to_collection': '05/05/24 21:36:48', 'table': '', 'coords_x': 1093, 'coords_y': -1969, 'coords_cx': 2, 'coords_cy': 133, 'external_files': '', 'score': -8.026802723270979, 'similarity': 0.0, 'distance': 0.0, 'matches': [[13, 'base'], [18, 'salary'], [379, 'base'], [384, 'salary'], [429, 'base'], [434, 'salary']], 'account_name': 'llmware', 'library_name': 'example1_library'}\n",
      "query results:  3 {'query': 'base salary', '_id': '483', 'text': \" Executive's base salary shall be reviewed annually   by the Board (or the compensation committee of the Board), pursuant to Employer's normal   compensation and performance review policies for senior level executives, and may be increased but not   decreased. The amount of any increase for each year shall be determined accordingly. For purposes of this   Agreement, the term “Base Salary” shall mean the amount of Executive's base salary established from   time to time pursuant to this Section 2.2.\", 'doc_ID': 5, 'block_ID': 26, 'page_num': 3, 'content_type': 'text', 'author_or_speaker': '', 'special_field1': '', 'file_source': 'C:\\\\\\\\Users\\\\\\\\hzywi\\\\\\\\llmware_data\\\\\\\\tmp\\\\\\\\parser_tmp\\\\\\\\process_pdf_files\\\\\\\\Athena EXECUTIVE EMPLOYMENT AGREEMENT.pdf', 'added_to_collection': '05/05/24 21:36:48', 'table': '', 'coords_x': 1093, 'coords_y': -1969, 'coords_cx': 2, 'coords_cy': 133, 'external_files': '', 'score': -8.026802723270979, 'similarity': 0.0, 'distance': 0.0, 'matches': [[13, 'base'], [18, 'salary'], [379, 'base'], [384, 'salary'], [429, 'base'], [434, 'salary']], 'account_name': 'llmware', 'library_name': 'example1_library'}\n",
      "query results:  4 {'query': 'base salary', '_id': '597', 'text': \" Executive's base salary shall be reviewed annually   by the Board (or the compensation committee of the Board), pursuant to Employer's normal   compensation and performance review policies for senior level executives, and may be increased but not   decreased. The amount of any increase for each year shall be determined accordingly. For purposes of this   Agreement, the term “Base Salary” shall mean the amount of Executive's base salary established from   time to time pursuant to this Section 2.2.\", 'doc_ID': 6, 'block_ID': 26, 'page_num': 3, 'content_type': 'text', 'author_or_speaker': '', 'special_field1': '', 'file_source': 'C:\\\\\\\\Users\\\\\\\\hzywi\\\\\\\\llmware_data\\\\\\\\tmp\\\\\\\\parser_tmp\\\\\\\\process_pdf_files\\\\\\\\Bia EXECUTIVE EMPLOYMENT AGREEMENT.pdf', 'added_to_collection': '05/05/24 21:36:48', 'table': '', 'coords_x': 1093, 'coords_y': -1969, 'coords_cx': 2, 'coords_cy': 139, 'external_files': '', 'score': -8.026802723270979, 'similarity': 0.0, 'distance': 0.0, 'matches': [[13, 'base'], [18, 'salary'], [379, 'base'], [384, 'salary'], [429, 'base'], [434, 'salary']], 'account_name': 'llmware', 'library_name': 'example1_library'}\n",
      "query results:  5 {'query': 'base salary', '_id': '709', 'text': \" Executive's base salary shall be reviewed annually   by the Board (or the compensation committee of the Board), pursuant to Employer's normal   compensation and performance review policies for senior level executives, and may be increased but not   decreased. The amount of any increase for each year shall be determined accordingly. For purposes of this   Agreement, the term “Base Salary” shall mean the amount of Executive's base salary established from   time to time pursuant to this Section 2.2.\", 'doc_ID': 7, 'block_ID': 24, 'page_num': 3, 'content_type': 'text', 'author_or_speaker': '', 'special_field1': '', 'file_source': 'C:\\\\\\\\Users\\\\\\\\hzywi\\\\\\\\llmware_data\\\\\\\\tmp\\\\\\\\parser_tmp\\\\\\\\process_pdf_files\\\\\\\\Demeter EXECUTIVE EMPLOYMENT AGREEMENT.pdf', 'added_to_collection': '05/05/24 21:36:48', 'table': '', 'coords_x': 1093, 'coords_y': -1825, 'coords_cx': 2, 'coords_cy': 136, 'external_files': '', 'score': -8.026802723270979, 'similarity': 0.0, 'distance': 0.0, 'matches': [[13, 'base'], [18, 'salary'], [379, 'base'], [384, 'salary'], [429, 'base'], [434, 'salary']], 'account_name': 'llmware', 'library_name': 'example1_library'}\n",
      "query results:  6 {'query': 'base salary', '_id': '818', 'text': \" Executive's base salary shall be reviewed annually   by the Board (or the compensation committee of the Board), pursuant to Employer's normal   compensation and performance review policies for senior level executives, and may be increased but not   decreased. The amount of any increase for each year shall be determined accordingly. For purposes of this   Agreement, the term “Base Salary” shall mean the amount of Executive's base salary established from   time to time pursuant to this Section 2.2.\", 'doc_ID': 8, 'block_ID': 24, 'page_num': 3, 'content_type': 'text', 'author_or_speaker': '', 'special_field1': '', 'file_source': 'C:\\\\\\\\Users\\\\\\\\hzywi\\\\\\\\llmware_data\\\\\\\\tmp\\\\\\\\parser_tmp\\\\\\\\process_pdf_files\\\\\\\\Eileithyia EXECUTIVE EMPLOYMENT AGREEMENT.pdf', 'added_to_collection': '05/05/24 21:36:48', 'table': '', 'coords_x': 1093, 'coords_y': -1825, 'coords_cx': 2, 'coords_cy': 134, 'external_files': '', 'score': -8.026802723270979, 'similarity': 0.0, 'distance': 0.0, 'matches': [[13, 'base'], [18, 'salary'], [379, 'base'], [384, 'salary'], [429, 'base'], [434, 'salary']], 'account_name': 'llmware', 'library_name': 'example1_library'}\n",
      "query results:  7 {'query': 'base salary', '_id': '927', 'text': \" Executive's base salary shall be reviewed annually   by the Board (or the compensation committee of the Board), pursuant to Employer's normal   compensation and performance review policies for senior level executives, and may be increased but not   decreased. The amount of any increase for each year shall be determined accordingly. For purposes of this   Agreement, the term “Base Salary” shall mean the amount of Executive's base salary established from   time to time pursuant to this Section 2.2.\", 'doc_ID': 9, 'block_ID': 24, 'page_num': 3, 'content_type': 'text', 'author_or_speaker': '', 'special_field1': '', 'file_source': 'C:\\\\\\\\Users\\\\\\\\hzywi\\\\\\\\llmware_data\\\\\\\\tmp\\\\\\\\parser_tmp\\\\\\\\process_pdf_files\\\\\\\\Gaia EXECUTIVE EMPLOYMENT AGREEMENT.pdf', 'added_to_collection': '05/05/24 21:36:48', 'table': '', 'coords_x': 1093, 'coords_y': -1825, 'coords_cx': 2, 'coords_cy': 137, 'external_files': '', 'score': -8.026802723270979, 'similarity': 0.0, 'distance': 0.0, 'matches': [[13, 'base'], [18, 'salary'], [379, 'base'], [384, 'salary'], [429, 'base'], [434, 'salary']], 'account_name': 'llmware', 'library_name': 'example1_library'}\n",
      "query results:  8 {'query': 'base salary', '_id': '1036', 'text': \" Executive's base salary shall be reviewed annually   by the Board (or the compensation committee of the Board), pursuant to Employer's normal   compensation and performance review policies for senior level executives, and may be increased but not   decreased. The amount of any increase for each year shall be determined accordingly. For purposes of this   Agreement, the term “Base Salary” shall mean the amount of Executive's base salary established from   time to time pursuant to this Section 2.2.\", 'doc_ID': 10, 'block_ID': 24, 'page_num': 3, 'content_type': 'text', 'author_or_speaker': '', 'special_field1': '', 'file_source': 'C:\\\\\\\\Users\\\\\\\\hzywi\\\\\\\\llmware_data\\\\\\\\tmp\\\\\\\\parser_tmp\\\\\\\\process_pdf_files\\\\\\\\Leto EXECUTIVE EMPLOYMENT AGREEMENT.pdf', 'added_to_collection': '05/05/24 21:36:48', 'table': '', 'coords_x': 1093, 'coords_y': -1825, 'coords_cx': 2, 'coords_cy': 134, 'external_files': '', 'score': -8.026802723270979, 'similarity': 0.0, 'distance': 0.0, 'matches': [[13, 'base'], [18, 'salary'], [379, 'base'], [384, 'salary'], [429, 'base'], [434, 'salary']], 'account_name': 'llmware', 'library_name': 'example1_library'}\n",
      "query results:  9 {'query': 'base salary', '_id': '1143', 'text': \" Executive's base salary shall be reviewed annually   by the Board (or the compensation committee of the Board), pursuant to Employer's normal   compensation and performance review policies for senior level executives, and may be increased but not   decreased. The amount of any increase for each year shall be determined accordingly. For purposes of this   Agreement, the term “Base Salary” shall mean the amount of Executive's base salary established from   time to time pursuant to this Section 2.2.\", 'doc_ID': 11, 'block_ID': 24, 'page_num': 3, 'content_type': 'text', 'author_or_speaker': '', 'special_field1': '', 'file_source': 'C:\\\\\\\\Users\\\\\\\\hzywi\\\\\\\\llmware_data\\\\\\\\tmp\\\\\\\\parser_tmp\\\\\\\\process_pdf_files\\\\\\\\Metis EXECUTIVE EMPLOYMENT AGREEMENT.pdf', 'added_to_collection': '05/05/24 21:36:48', 'table': '', 'coords_x': 1093, 'coords_y': -1825, 'coords_cx': 2, 'coords_cy': 135, 'external_files': '', 'score': -8.026802723270979, 'similarity': 0.0, 'distance': 0.0, 'matches': [[13, 'base'], [18, 'salary'], [379, 'base'], [384, 'salary'], [429, 'base'], [434, 'salary']], 'account_name': 'llmware', 'library_name': 'example1_library'}\n"
     ]
    }
   ],
   "source": [
    "test_query = \"base salary\"\n",
    "\n",
    "print(f\"\\nStep 7 - running a test query - {test_query}\\n\")\n",
    "\n",
    "from llmware.retrieval import Query\n",
    "\n",
    "query_results = Query(library).text_query(test_query, result_count=10)\n",
    "\n",
    "for i, result in enumerate(query_results):\n",
    "    text = result[\"text\"]\n",
    "    file_source = result[\"file_source\"]\n",
    "    page_number = result[\"page_num\"]\n",
    "    doc_id = result[\"doc_ID\"]\n",
    "    block_id = result[\"block_ID\"]\n",
    "    matches = result[\"matches\"]\n",
    "\n",
    "    #   -- if print to console is too verbose, then pick just a few keys for print\n",
    "    print(\"query results: \", i, result)"
   ]
  }
 ],
 "metadata": {
  "kernelspec": {
   "display_name": "Python 3",
   "language": "python",
   "name": "python3"
  },
  "language_info": {
   "codemirror_mode": {
    "name": "ipython",
    "version": 3
   },
   "file_extension": ".py",
   "mimetype": "text/x-python",
   "name": "python",
   "nbconvert_exporter": "python",
   "pygments_lexer": "ipython3",
   "version": "3.11.9"
  }
 },
 "nbformat": 4,
 "nbformat_minor": 2
}
